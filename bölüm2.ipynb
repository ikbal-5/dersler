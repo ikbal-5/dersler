{
 "cells": [
  {
   "cell_type": "markdown",
   "id": "56fcf4a1",
   "metadata": {},
   "source": [
    "KÜTÜPHANELERİ İMPORT EDELİM"
   ]
  },
  {
   "cell_type": "code",
   "execution_count": 1,
   "id": "f1aa5a22",
   "metadata": {},
   "outputs": [],
   "source": [
    "import numpy as np\n",
    "import pandas as pd\n",
    "import matplotlib.pyplot as plt\n",
    "from sklearn.model_selection import train_test_split"
   ]
  },
  {
   "cell_type": "markdown",
   "id": "41518efd",
   "metadata": {},
   "source": [
    "VERİYİ YÜKLEYELİM"
   ]
  },
  {
   "cell_type": "code",
   "execution_count": 2,
   "id": "17d088b6",
   "metadata": {},
   "outputs": [
    {
     "name": "stdout",
     "output_type": "stream",
     "text": [
      "    Aylar  Satislar\n",
      "0       8   19671.5\n",
      "1      10   23102.5\n",
      "2      11   18865.5\n",
      "3      13   21762.5\n",
      "4      14   19945.5\n",
      "5      19   28321.0\n",
      "6      19   30075.0\n",
      "7      20   27222.5\n",
      "8      20   32222.5\n",
      "9      24   28594.5\n",
      "10     25   31609.0\n",
      "11     25   27897.0\n",
      "12     25   28478.5\n",
      "13     26   28540.5\n",
      "14     29   30555.5\n",
      "15     31   33969.0\n",
      "16     32   33014.5\n",
      "17     34   41544.0\n",
      "18     37   40681.5\n",
      "19     37    4697.0\n",
      "20     42   45869.0\n",
      "21     44   49136.5\n",
      "22     49   50651.0\n",
      "23     50   56906.0\n",
      "24     54   54715.5\n",
      "25     55   52791.0\n",
      "26     59   58484.5\n",
      "27     59   56317.5\n",
      "28     64   61195.5\n",
      "29     65   60936.0\n"
     ]
    }
   ],
   "source": [
    "satıslar = pd.read_csv('satislar.csv')\n",
    "print(satıslar)"
   ]
  },
  {
   "cell_type": "code",
   "execution_count": 3,
   "id": "9024e116",
   "metadata": {},
   "outputs": [],
   "source": [
    "aylar = satıslar[[\"Aylar\"]]\n",
    "satıslar = satıslar[['Satislar']]"
   ]
  },
  {
   "cell_type": "raw",
   "id": "f6c9bade",
   "metadata": {},
   "source": [
    "VERİYİ TEST VE EĞİTİM VERİSİ OLARAK BÖLELİM."
   ]
  },
  {
   "cell_type": "code",
   "execution_count": 35,
   "id": "fca53e99",
   "metadata": {},
   "outputs": [],
   "source": [
    "from sklearn.model_selection import train_test_split\n",
    "x_train,x_test ,y_train,y_test = train_test_split(aylar,satıslar,test_size=0.33,random_state = 0)"
   ]
  },
  {
   "cell_type": "markdown",
   "id": "90af77d7",
   "metadata": {},
   "source": [
    "VERİLERİ STANDARTLAŞTIRDIK"
   ]
  },
  {
   "cell_type": "code",
   "execution_count": 32,
   "id": "1ab0a4ff",
   "metadata": {},
   "outputs": [],
   "source": [
    "from sklearn.preprocessing import StandardScaler\n",
    "sc = StandardScaler()\n",
    "X_train = sc.fit_transform(x_train)\n",
    "X_test = sc.fit_transform(x_test)\n",
    "Y_train = sc.fit_transform(y_train)\n",
    "Y_test = sc.fit_transform(y_test)"
   ]
  },
  {
   "cell_type": "markdown",
   "id": "f24d2c6b",
   "metadata": {},
   "source": [
    "LİNEER REGRESYON MODELİNİN İNŞAASI(DOĞRUSAL REGRESYON : BİR DİZİ NOKTAYA EN UYGUN DÜZ ÇİZGİYİ VEYA HİPER DÜZLEMİ BULMAK İÇİN KULLANILIR)"
   ]
  },
  {
   "cell_type": "code",
   "execution_count": 36,
   "id": "fe10b49f",
   "metadata": {},
   "outputs": [
    {
     "name": "stdout",
     "output_type": "stream",
     "text": [
      "[[20126.21865404]\n",
      " [57740.29412655]\n",
      " [30771.7117123 ]\n",
      " [30062.01217508]\n",
      " [54191.79644047]\n",
      " [50643.29875438]\n",
      " [54191.79644047]\n",
      " [30062.01217508]\n",
      " [36449.30801003]\n",
      " [47094.80106829]]\n"
     ]
    }
   ],
   "source": [
    "from sklearn.linear_model import LinearRegression\n",
    "lr = LinearRegression()\n",
    "lr.fit(x_train,y_train)\n",
    "tahmin = lr.predict(x_test)\n",
    "print(tahmin)"
   ]
  },
  {
   "cell_type": "markdown",
   "id": "8aa5849e",
   "metadata": {},
   "source": [
    "VERİYİ GÖRSELLEŞTİRMEK"
   ]
  },
  {
   "cell_type": "code",
   "execution_count": 37,
   "id": "3893639a",
   "metadata": {},
   "outputs": [
    {
     "data": {
      "text/plain": [
       "Text(0, 0.5, 'satışlar')"
      ]
     },
     "execution_count": 37,
     "metadata": {},
     "output_type": "execute_result"
    },
    {
     "data": {
      "image/png": "[encoded data removed]",
      "text/plain": [
       "<Figure size 432x288 with 1 Axes>"
      ]
     },
     "metadata": {
      "needs_background": "light"
     },
     "output_type": "display_data"
    }
   ],
   "source": [
    "x_train = x_train.sort_index() #x_traini küçükten büyüğe sıralamak.\n",
    "y_train = y_train.sort_index() #y_traini küçükten büyüğe sıralamak.\n",
    "plt.plot(x_train,y_train)\n",
    "plt.plot(x_test,lr.predict(x_test))\n",
    "plt.title(\"aylara göre satış\") #grafiğe başlık eklemek.\n",
    "plt.xlabel(\"aylar\")\n",
    "plt.ylabel(\"satışlar\")"
   ]
  }
 ],
 "metadata": {
  "kernelspec": {
   "display_name": "Python 3 (ipykernel)",
   "language": "python",
   "name": "python3"
  },
  "language_info": {
   "codemirror_mode": {
    "name": "ipython",
    "version": 3
   },
   "file_extension": ".py",
   "mimetype": "text/x-python",
   "name": "python",
   "nbconvert_exporter": "python",
   "pygments_lexer": "ipython3",
   "version": "3.9.7"
  }
 },
 "nbformat": 4,
 "nbformat_minor": 5
}
