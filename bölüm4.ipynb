{
 "cells": [
  {
   "cell_type": "markdown",
   "id": "c080c1c6",
   "metadata": {},
   "source": [
    "Polinomal Regresyon: Birden fazla değişkene ve üslerine sahip olan regresyon çeşididir.Bazen, veriler arasında doğrusal olmayan bir ilişki olabilir. Böyle bir ilişkiyi açıklamaya çalışmanın bir yolu, bir polinom regresyon modelidir."
   ]
  },
  {
   "cell_type": "code",
   "execution_count": 30,
   "id": "f8d87815",
   "metadata": {},
   "outputs": [],
   "source": [
    "#Kütüphaneleri import edelim\n",
    "import numpy as np\n",
    "import pandas as pd \n",
    "import matplotlib.pyplot as plt\n"
   ]
  },
  {
   "cell_type": "code",
   "execution_count": 31,
   "id": "155700d2",
   "metadata": {},
   "outputs": [
    {
     "name": "stdout",
     "output_type": "stream",
     "text": [
      "              unvan  Egitim Seviyesi   maas\n",
      "0             Cayci                1   2250\n",
      "1          Sekreter                2   2500\n",
      "2  Uzman Yardimcisi                3   3000\n",
      "3             Uzman                4   4000\n",
      "4  Proje Yoneticisi                5   5500\n",
      "5               Sef                6   7500\n",
      "6             Mudur                7  10000\n",
      "7          Direktor                8  15000\n",
      "8           C-level                9  25000\n",
      "9               CEO               10  50000\n"
     ]
    }
   ],
   "source": [
    "veriler = pd.read_csv(\"maaslar.csv\")\n",
    "print(veriler)"
   ]
  },
  {
   "cell_type": "code",
   "execution_count": 32,
   "id": "fa2345fc",
   "metadata": {},
   "outputs": [
    {
     "name": "stdout",
     "output_type": "stream",
     "text": [
      "[[ 1]\n",
      " [ 2]\n",
      " [ 3]\n",
      " [ 4]\n",
      " [ 5]\n",
      " [ 6]\n",
      " [ 7]\n",
      " [ 8]\n",
      " [ 9]\n",
      " [10]]\n",
      "[[ 2250]\n",
      " [ 2500]\n",
      " [ 3000]\n",
      " [ 4000]\n",
      " [ 5500]\n",
      " [ 7500]\n",
      " [10000]\n",
      " [15000]\n",
      " [25000]\n",
      " [50000]]\n"
     ]
    }
   ],
   "source": [
    "x=veriler.iloc[:,1:2] # kullanacağımız verielri ayırdık\n",
    "y=veriler.iloc[:,2:]\n",
    "X = x.values\n",
    "Y = y.values #Ayırdığımız verileri numpyy array yaptık\n",
    "print(X)\n",
    "print(Y)"
   ]
  },
  {
   "cell_type": "code",
   "execution_count": 33,
   "id": "2a8daa22",
   "metadata": {},
   "outputs": [
    {
     "data": {
      "text/plain": [
       "[<matplotlib.lines.Line2D at 0x7fc1305cd280>]"
      ]
     },
     "execution_count": 33,
     "metadata": {},
     "output_type": "execute_result"
    },
    {
     "data": {
      "image/png": "[encoded data removed]",
      "text/plain": [
       "<Figure size 432x288 with 1 Axes>"
      ]
     },
     "metadata": {
      "needs_background": "light"
     },
     "output_type": "display_data"
    }
   ],
   "source": [
    "from sklearn.linear_model import LinearRegression #ilk olarak lineer bir model oluşturduk. Bu işlemle modelimizi eğitiyoruz\n",
    "lin_reg = LinearRegression()\n",
    "lin_reg.fit(X,Y) #x den y yi öğren diyoruz\n",
    "plt.scatter(X,Y,color='red')\n",
    "plt.plot(X,Y)\n",
    "plt.plot(X,lin_reg.predict(X),color='blue')"
   ]
  },
  {
   "cell_type": "markdown",
   "id": "4dc3b109",
   "metadata": {},
   "source": [
    "Polinomal regresyon analizi ile amaç elimizde bulunan data setinden bir lineer model oluşturup görselleştirdikten sonra bu çıktılara uygun lineer modeli elde etmek.\n",
    "Scatter nedir ? İki farklı değişkenin arasındaki ilişkiyi belirlemek için kullanılır. Aralarındaki ilişkinin sebebi görülemese de, ilgili iki değişkenin arasında direkt olarak bir ilişki bulunup bulunmadığı ve bu ilişkinin ne derece güçlü olduğu görülebilir."
   ]
  },
  {
   "cell_type": "code",
   "execution_count": 34,
   "id": "7d674603",
   "metadata": {},
   "outputs": [
    {
     "name": "stdout",
     "output_type": "stream",
     "text": [
      "[[  1.   1.   1.]\n",
      " [  1.   2.   4.]\n",
      " [  1.   3.   9.]\n",
      " [  1.   4.  16.]\n",
      " [  1.   5.  25.]\n",
      " [  1.   6.  36.]\n",
      " [  1.   7.  49.]\n",
      " [  1.   8.  64.]\n",
      " [  1.   9.  81.]\n",
      " [  1.  10. 100.]]\n"
     ]
    },
    {
     "data": {
      "image/png": "[encoded data removed]",
      "text/plain": [
       "<Figure size 432x288 with 1 Axes>"
      ]
     },
     "metadata": {
      "needs_background": "light"
     },
     "output_type": "display_data"
    }
   ],
   "source": [
    "\"\"\" POLİNOMAL REGRESYON ANALİZİ\"\"\"\n",
    "from sklearn.preprocessing import PolynomialFeatures #polynomialFeatures aslında bize herhangi bir sayıyı polinomial olarak ifade etmemizi sağlar\n",
    "poly_reg = PolynomialFeatures(degree = 2)\n",
    "#2.dereceden bir obje oluşturduk \n",
    "\n",
    "x_poly = poly_reg.fit_transform(X)\n",
    "print(x_poly)\n",
    "\n",
    "from sklearn.linear_model import LinearRegression\n",
    "lin_reg2 = LinearRegression()\n",
    "\n",
    "lin_reg2.fit(x_poly,Y)\n",
    "plt.scatter(X,Y,color='red')\n",
    "plt.plot(X,lin_reg2.predict(poly_reg.fit_transform(X)),color='blue')\n",
    "plt.show()\n"
   ]
  },
  {
   "cell_type": "code",
   "execution_count": 35,
   "id": "3572987d",
   "metadata": {},
   "outputs": [
    {
     "name": "stdout",
     "output_type": "stream",
     "text": [
      "[[56091.66666667]]\n",
      "[[10083.33333333]]\n"
     ]
    }
   ],
   "source": [
    "print(lin_reg2.predict(poly_reg.fit_transform([[11]])))\n",
    "print(lin_reg2.predict(poly_reg.fit_transform([[6.6]])))"
   ]
  },
  {
   "cell_type": "code",
   "execution_count": 36,
   "id": "2812a9a6",
   "metadata": {},
   "outputs": [
    {
     "name": "stdout",
     "output_type": "stream",
     "text": [
      "[[1.000e+00 1.000e+00 1.000e+00 1.000e+00 1.000e+00]\n",
      " [1.000e+00 2.000e+00 4.000e+00 8.000e+00 1.600e+01]\n",
      " [1.000e+00 3.000e+00 9.000e+00 2.700e+01 8.100e+01]\n",
      " [1.000e+00 4.000e+00 1.600e+01 6.400e+01 2.560e+02]\n",
      " [1.000e+00 5.000e+00 2.500e+01 1.250e+02 6.250e+02]\n",
      " [1.000e+00 6.000e+00 3.600e+01 2.160e+02 1.296e+03]\n",
      " [1.000e+00 7.000e+00 4.900e+01 3.430e+02 2.401e+03]\n",
      " [1.000e+00 8.000e+00 6.400e+01 5.120e+02 4.096e+03]\n",
      " [1.000e+00 9.000e+00 8.100e+01 7.290e+02 6.561e+03]\n",
      " [1.000e+00 1.000e+01 1.000e+02 1.000e+03 1.000e+04]]\n"
     ]
    },
    {
     "data": {
      "image/png": "[encoded data removed]",
      "text/plain": [
       "<Figure size 432x288 with 1 Axes>"
      ]
     },
     "metadata": {
      "needs_background": "light"
     },
     "output_type": "display_data"
    }
   ],
   "source": [
    "\n",
    "\"\"\"4.dereceden deneme\"\"\"\n",
    "from sklearn.preprocessing import PolynomialFeatures\n",
    "poly_reg = PolynomialFeatures(degree = 4)\n",
    "#4.dereceden\n",
    "\n",
    "x_poly = poly_reg.fit_transform(X)\n",
    "print(x_poly)\n",
    "lin_reg2 = LinearRegression()\n",
    "lin_reg2.fit(x_poly,Y)\n",
    "plt.scatter(X,Y,color='red')\n",
    "plt.plot(X,lin_reg2.predict(poly_reg.fit_transform(X)),color='blue')\n",
    "plt.show()"
   ]
  },
  {
   "cell_type": "code",
   "execution_count": 37,
   "id": "e69f1de0",
   "metadata": {},
   "outputs": [
    {
     "name": "stdout",
     "output_type": "stream",
     "text": [
      "[[89041.66666667]]\n",
      "[[8146.9948718]]\n"
     ]
    }
   ],
   "source": [
    "print(lin_reg2.predict(poly_reg.fit_transform([[11]])))\n",
    "print(lin_reg2.predict(poly_reg.fit_transform([[6.6]])))\n"
   ]
  },
  {
   "cell_type": "markdown",
   "id": "18bfd1af",
   "metadata": {},
   "source": []
  },
  {
   "cell_type": "code",
   "execution_count": 38,
   "id": "ed994df6",
   "metadata": {},
   "outputs": [
    {
     "name": "stdout",
     "output_type": "stream",
     "text": [
      "[0.01150915]\n",
      "[0.01150915]\n"
     ]
    },
    {
     "data": {
      "image/png": "[encoded data removed]",
      "text/plain": [
       "<Figure size 432x288 with 1 Axes>"
      ]
     },
     "metadata": {
      "needs_background": "light"
     },
     "output_type": "display_data"
    }
   ],
   "source": [
    "#verilerin olceklenmesi\n",
    "from sklearn.preprocessing import StandardScaler\n",
    "\n",
    "sc1=StandardScaler()\n",
    "\n",
    "x_olcekli = sc1.fit_transform(X)\n",
    "\n",
    "sc2=StandardScaler()\n",
    "y_olcekli = np.ravel(sc2.fit_transform(Y.reshape(-1,1)))\n",
    "\n",
    "\n",
    "from sklearn.svm import SVR\n",
    "\n",
    "svr_reg = SVR(kernel='rbf')\n",
    "svr_reg.fit(x_olcekli,y_olcekli)\n",
    "\n",
    "plt.scatter(x_olcekli,y_olcekli,color='red')\n",
    "plt.plot(x_olcekli,svr_reg.predict(x_olcekli),color='blue')\n",
    "\n",
    "\n",
    "print(svr_reg.predict([[11]]))\n",
    "print(svr_reg.predict([[6.6]]))"
   ]
  },
  {
   "cell_type": "code",
   "execution_count": null,
   "id": "7e88fa61",
   "metadata": {},
   "outputs": [],
   "source": []
  },
  {
   "cell_type": "code",
   "execution_count": null,
   "id": "2f381f4d",
   "metadata": {},
   "outputs": [],
   "source": []
  }
 ],
 "metadata": {
  "kernelspec": {
   "display_name": "Python 3 (ipykernel)",
   "language": "python",
   "name": "python3"
  },
  "language_info": {
   "codemirror_mode": {
    "name": "ipython",
    "version": 3
   },
   "file_extension": ".py",
   "mimetype": "text/x-python",
   "name": "python",
   "nbconvert_exporter": "python",
   "pygments_lexer": "ipython3",
   "version": "3.9.7"
  }
 },
 "nbformat": 4,
 "nbformat_minor": 5
}
